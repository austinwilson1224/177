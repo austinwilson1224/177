{
 "cells": [
  {
   "cell_type": "code",
   "execution_count": 6,
   "metadata": {},
   "outputs": [],
   "source": [
    "import pandas as pd\n",
    "import numpy as np  \n",
    "import matplotlib.pyplot as plt \n",
    "import seaborn as sns \n",
    "import plotly.express as px \n",
    "import plotly.graph_objects as go\n",
    "import folium \n",
    "from folium import plugins "
   ]
  },
  {
   "cell_type": "code",
   "execution_count": 7,
   "metadata": {},
   "outputs": [],
   "source": [
    "plt.rcParams['figure.figsize'] = 10, 12"
   ]
  },
  {
   "cell_type": "code",
   "execution_count": 10,
   "metadata": {},
   "outputs": [],
   "source": [
    "df = pd.read_excel('COVID 19 ML Model Data/Covid cases in India.xlsx')"
   ]
  },
  {
   "cell_type": "code",
   "execution_count": 11,
   "metadata": {},
   "outputs": [
    {
     "output_type": "execute_result",
     "data": {
      "text/plain": "   S. No. Name of State / UT  Total Confirmed cases (Indian National)  \\\n0       1     Andhra Pradesh                                        9   \n1       2              Bihar                                        3   \n2       3       Chhattisgarh                                        1   \n3       4              Delhi                                       30   \n4       5            Gujarat                                       32   \n\n   Total Confirmed cases ( Foreign National )  Cured  Death  \n0                                           0      0      0  \n1                                           0      0      1  \n2                                           0      0      0  \n3                                           1      6      1  \n4                                           1      0      1  ",
      "text/html": "<div>\n<style scoped>\n    .dataframe tbody tr th:only-of-type {\n        vertical-align: middle;\n    }\n\n    .dataframe tbody tr th {\n        vertical-align: top;\n    }\n\n    .dataframe thead th {\n        text-align: right;\n    }\n</style>\n<table border=\"1\" class=\"dataframe\">\n  <thead>\n    <tr style=\"text-align: right;\">\n      <th></th>\n      <th>S. No.</th>\n      <th>Name of State / UT</th>\n      <th>Total Confirmed cases (Indian National)</th>\n      <th>Total Confirmed cases ( Foreign National )</th>\n      <th>Cured</th>\n      <th>Death</th>\n    </tr>\n  </thead>\n  <tbody>\n    <tr>\n      <td>0</td>\n      <td>1</td>\n      <td>Andhra Pradesh</td>\n      <td>9</td>\n      <td>0</td>\n      <td>0</td>\n      <td>0</td>\n    </tr>\n    <tr>\n      <td>1</td>\n      <td>2</td>\n      <td>Bihar</td>\n      <td>3</td>\n      <td>0</td>\n      <td>0</td>\n      <td>1</td>\n    </tr>\n    <tr>\n      <td>2</td>\n      <td>3</td>\n      <td>Chhattisgarh</td>\n      <td>1</td>\n      <td>0</td>\n      <td>0</td>\n      <td>0</td>\n    </tr>\n    <tr>\n      <td>3</td>\n      <td>4</td>\n      <td>Delhi</td>\n      <td>30</td>\n      <td>1</td>\n      <td>6</td>\n      <td>1</td>\n    </tr>\n    <tr>\n      <td>4</td>\n      <td>5</td>\n      <td>Gujarat</td>\n      <td>32</td>\n      <td>1</td>\n      <td>0</td>\n      <td>1</td>\n    </tr>\n  </tbody>\n</table>\n</div>"
     },
     "metadata": {},
     "execution_count": 11
    }
   ],
   "source": [
    "df.head()"
   ]
  },
  {
   "cell_type": "code",
   "execution_count": 12,
   "metadata": {},
   "outputs": [
    {
     "output_type": "execute_result",
     "data": {
      "text/plain": "    S. No. Name of State / UT  Total Confirmed cases (Indian National)  \\\n20      21  Jammu and Kashmir                                        7   \n21      22             Ladakh                                       13   \n22      23      Uttar Pradesh                                       34   \n23      24        Uttarakhand                                        3   \n24      25        West Bengal                                        9   \n\n    Total Confirmed cases ( Foreign National )  Cured  Death  \n20                                           0      1      0  \n21                                           0      0      0  \n22                                           1     11      0  \n23                                           1      0      0  \n24                                           0      0      1  ",
      "text/html": "<div>\n<style scoped>\n    .dataframe tbody tr th:only-of-type {\n        vertical-align: middle;\n    }\n\n    .dataframe tbody tr th {\n        vertical-align: top;\n    }\n\n    .dataframe thead th {\n        text-align: right;\n    }\n</style>\n<table border=\"1\" class=\"dataframe\">\n  <thead>\n    <tr style=\"text-align: right;\">\n      <th></th>\n      <th>S. No.</th>\n      <th>Name of State / UT</th>\n      <th>Total Confirmed cases (Indian National)</th>\n      <th>Total Confirmed cases ( Foreign National )</th>\n      <th>Cured</th>\n      <th>Death</th>\n    </tr>\n  </thead>\n  <tbody>\n    <tr>\n      <td>20</td>\n      <td>21</td>\n      <td>Jammu and Kashmir</td>\n      <td>7</td>\n      <td>0</td>\n      <td>1</td>\n      <td>0</td>\n    </tr>\n    <tr>\n      <td>21</td>\n      <td>22</td>\n      <td>Ladakh</td>\n      <td>13</td>\n      <td>0</td>\n      <td>0</td>\n      <td>0</td>\n    </tr>\n    <tr>\n      <td>22</td>\n      <td>23</td>\n      <td>Uttar Pradesh</td>\n      <td>34</td>\n      <td>1</td>\n      <td>11</td>\n      <td>0</td>\n    </tr>\n    <tr>\n      <td>23</td>\n      <td>24</td>\n      <td>Uttarakhand</td>\n      <td>3</td>\n      <td>1</td>\n      <td>0</td>\n      <td>0</td>\n    </tr>\n    <tr>\n      <td>24</td>\n      <td>25</td>\n      <td>West Bengal</td>\n      <td>9</td>\n      <td>0</td>\n      <td>0</td>\n      <td>1</td>\n    </tr>\n  </tbody>\n</table>\n</div>"
     },
     "metadata": {},
     "execution_count": 12
    }
   ],
   "source": [
    "df.tail()"
   ]
  },
  {
   "cell_type": "code",
   "execution_count": 15,
   "metadata": {},
   "outputs": [],
   "source": [
    "daily = pd.read_excel('COVID 19 ML Model Data/per_day_cases.xlsx',parse_dates=True,sheet_name='India')"
   ]
  },
  {
   "cell_type": "code",
   "execution_count": 16,
   "metadata": {},
   "outputs": [
    {
     "output_type": "execute_result",
     "data": {
      "text/plain": "        Date  Total Cases  New Cases  Days after surpassing 100 cases\n0 2020-01-30            1          1                              NaN\n1 2020-01-31            1          0                              NaN\n2 2020-02-01            1          0                              NaN\n3 2020-02-02            2          1                              NaN\n4 2020-02-03            3          1                              NaN",
      "text/html": "<div>\n<style scoped>\n    .dataframe tbody tr th:only-of-type {\n        vertical-align: middle;\n    }\n\n    .dataframe tbody tr th {\n        vertical-align: top;\n    }\n\n    .dataframe thead th {\n        text-align: right;\n    }\n</style>\n<table border=\"1\" class=\"dataframe\">\n  <thead>\n    <tr style=\"text-align: right;\">\n      <th></th>\n      <th>Date</th>\n      <th>Total Cases</th>\n      <th>New Cases</th>\n      <th>Days after surpassing 100 cases</th>\n    </tr>\n  </thead>\n  <tbody>\n    <tr>\n      <td>0</td>\n      <td>2020-01-30</td>\n      <td>1</td>\n      <td>1</td>\n      <td>NaN</td>\n    </tr>\n    <tr>\n      <td>1</td>\n      <td>2020-01-31</td>\n      <td>1</td>\n      <td>0</td>\n      <td>NaN</td>\n    </tr>\n    <tr>\n      <td>2</td>\n      <td>2020-02-01</td>\n      <td>1</td>\n      <td>0</td>\n      <td>NaN</td>\n    </tr>\n    <tr>\n      <td>3</td>\n      <td>2020-02-02</td>\n      <td>2</td>\n      <td>1</td>\n      <td>NaN</td>\n    </tr>\n    <tr>\n      <td>4</td>\n      <td>2020-02-03</td>\n      <td>3</td>\n      <td>1</td>\n      <td>NaN</td>\n    </tr>\n  </tbody>\n</table>\n</div>"
     },
     "metadata": {},
     "execution_count": 16
    }
   ],
   "source": [
    "daily.head()"
   ]
  },
  {
   "cell_type": "code",
   "execution_count": 17,
   "metadata": {},
   "outputs": [
    {
     "output_type": "execute_result",
     "data": {
      "text/plain": "(56, 4)"
     },
     "metadata": {},
     "execution_count": 17
    }
   ],
   "source": [
    "daily.shape"
   ]
  },
  {
   "cell_type": "code",
   "execution_count": null,
   "metadata": {},
   "outputs": [],
   "source": []
  }
 ],
 "metadata": {
  "language_info": {
   "codemirror_mode": {
    "name": "ipython",
    "version": 3
   },
   "file_extension": ".py",
   "mimetype": "text/x-python",
   "name": "python",
   "nbconvert_exporter": "python",
   "pygments_lexer": "ipython3",
   "version": "3.7.4-final"
  },
  "orig_nbformat": 2,
  "kernelspec": {
   "name": "python37464bitbasecondaa8eb8a4b6607436cb0f79bc24e9ac606",
   "display_name": "Python 3.7.4 64-bit ('base': conda)"
  }
 },
 "nbformat": 4,
 "nbformat_minor": 2
}